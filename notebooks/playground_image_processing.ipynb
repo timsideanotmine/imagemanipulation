{
 "cells": [
  {
   "cell_type": "markdown",
   "metadata": {},
   "source": [
    "## Imports"
   ]
  },
  {
   "cell_type": "code",
   "execution_count": 4,
   "metadata": {},
   "outputs": [
    {
     "ename": "ImportError",
     "evalue": "attempted relative import with no known parent package",
     "output_type": "error",
     "traceback": [
      "\u001b[1;31m---------------------------------------------------------------------------\u001b[0m",
      "\u001b[1;31mImportError\u001b[0m                               Traceback (most recent call last)",
      "Cell \u001b[1;32mIn[4], line 7\u001b[0m\n\u001b[0;32m      5\u001b[0m \u001b[38;5;28;01mimport\u001b[39;00m \u001b[38;5;21;01msys\u001b[39;00m \n\u001b[0;32m      6\u001b[0m \u001b[38;5;28;01mimport\u001b[39;00m \u001b[38;5;21;01mdatetime\u001b[39;00m\n\u001b[1;32m----> 7\u001b[0m \u001b[38;5;28;01mfrom\u001b[39;00m \u001b[38;5;21;01m.\u001b[39;00m\u001b[38;5;21;01mscripts\u001b[39;00m \u001b[38;5;28;01mimport\u001b[39;00m colorful_big_one\n",
      "\u001b[1;31mImportError\u001b[0m: attempted relative import with no known parent package"
     ]
    }
   ],
   "source": [
    "import numpy as np\n",
    "import matplotlib.pyplot as plt\n",
    "from PIL import Image\n",
    "import os \n",
    "import sys \n",
    "import datetime\n",
    "from .scripts import colorful_big_one\n"
   ]
  },
  {
   "cell_type": "markdown",
   "metadata": {},
   "source": [
    "## Main "
   ]
  },
  {
   "cell_type": "code",
   "execution_count": 78,
   "metadata": {},
   "outputs": [
    {
     "name": "stdout",
     "output_type": "stream",
     "text": [
      "['d:\\\\Cloud\\\\Github\\\\image_np_manipulation\\\\notebooks', 'c:\\\\Users\\\\jvane\\\\Anaconda3\\\\python311.zip', 'c:\\\\Users\\\\jvane\\\\Anaconda3\\\\DLLs', 'c:\\\\Users\\\\jvane\\\\Anaconda3\\\\Lib', 'c:\\\\Users\\\\jvane\\\\Anaconda3', '', 'c:\\\\Users\\\\jvane\\\\Anaconda3\\\\Lib\\\\site-packages', 'c:\\\\Users\\\\jvane\\\\Anaconda3\\\\Lib\\\\site-packages\\\\win32', 'c:\\\\Users\\\\jvane\\\\Anaconda3\\\\Lib\\\\site-packages\\\\win32\\\\lib', 'c:\\\\Users\\\\jvane\\\\Anaconda3\\\\Lib\\\\site-packages\\\\Pythonwin']\n"
     ]
    },
    {
     "ename": "AttributeError",
     "evalue": "module 'colorful_big_one' has no attribute 'create_colorful_big_one'",
     "output_type": "error",
     "traceback": [
      "\u001b[1;31m---------------------------------------------------------------------------\u001b[0m",
      "\u001b[1;31mAttributeError\u001b[0m                            Traceback (most recent call last)",
      "Cell \u001b[1;32mIn[78], line 3\u001b[0m\n\u001b[0;32m      1\u001b[0m \u001b[38;5;28mprint\u001b[39m(sys\u001b[38;5;241m.\u001b[39mpath)\n\u001b[1;32m----> 3\u001b[0m \u001b[43mcolorful_big_one\u001b[49m\u001b[38;5;241;43m.\u001b[39;49m\u001b[43mcreate_colorful_big_one\u001b[49m\n\u001b[0;32m      5\u001b[0m loaded_image_path \u001b[38;5;241m=\u001b[39m os\u001b[38;5;241m.\u001b[39mpath\u001b[38;5;241m.\u001b[39mjoin(\u001b[38;5;124m'\u001b[39m\u001b[38;5;124m..\u001b[39m\u001b[38;5;124m'\u001b[39m,\u001b[38;5;124m'\u001b[39m\u001b[38;5;124mimages\u001b[39m\u001b[38;5;124m'\u001b[39m,\u001b[38;5;124m'\u001b[39m\u001b[38;5;124minput\u001b[39m\u001b[38;5;124m'\u001b[39m,\u001b[38;5;124m'\u001b[39m\u001b[38;5;124mkittycat.png\u001b[39m\u001b[38;5;124m'\u001b[39m)\n\u001b[0;32m      6\u001b[0m use_this_image \u001b[38;5;241m=\u001b[39m np\u001b[38;5;241m.\u001b[39marray(Image\u001b[38;5;241m.\u001b[39mopen(loaded_image_path))\n",
      "\u001b[1;31mAttributeError\u001b[0m: module 'colorful_big_one' has no attribute 'create_colorful_big_one'"
     ]
    }
   ],
   "source": [
    "\n",
    "\n",
    "\n",
    "print(sys.path)\n",
    "\n",
    "colorful_big_one.create_colorful_big_one\n",
    "\n",
    "loaded_image_path = os.path.join('..','images','input','kittycat.png')\n",
    "use_this_image = np.array(Image.open(loaded_image_path))\n",
    "instructions = scripts.generate_random_instruction_list()\n",
    "\n",
    "colorful_big_one.create_colorful_big_one(use_this_image, instructions)\n",
    "\n"
   ]
  }
 ],
 "metadata": {
  "kernelspec": {
   "display_name": "base",
   "language": "python",
   "name": "python3"
  },
  "language_info": {
   "codemirror_mode": {
    "name": "ipython",
    "version": 3
   },
   "file_extension": ".py",
   "mimetype": "text/x-python",
   "name": "python",
   "nbconvert_exporter": "python",
   "pygments_lexer": "ipython3",
   "version": "3.11.7"
  }
 },
 "nbformat": 4,
 "nbformat_minor": 2
}
