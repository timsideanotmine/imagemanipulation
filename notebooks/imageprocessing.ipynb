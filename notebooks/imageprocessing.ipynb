{
 "cells": [
  {
   "cell_type": "markdown",
   "id": "cdfb1448",
   "metadata": {},
   "source": [
    "## 1. import all necessary packages"
   ]
  },
  {
   "cell_type": "code",
   "execution_count": 4,
   "id": "39f8b517",
   "metadata": {},
   "outputs": [],
   "source": [
    "import numpy as np\n",
    "import matplotlib.pyplot as plt\n",
    "from PIL import Image\n",
    "import os \n",
    "import datetime\n"
   ]
  },
  {
   "cell_type": "markdown",
   "id": "1c50a3da",
   "metadata": {},
   "source": [
    "## 2. import the module colorful_big_one, seperately, with issue for environment"
   ]
  },
  {
   "cell_type": "code",
   "execution_count": 5,
   "id": "e1e6f65d",
   "metadata": {},
   "outputs": [
    {
     "name": "stdout",
     "output_type": "stream",
     "text": [
      "d:\\Cloud\\Github\\imagemanipulation\\notebooks\n",
      "d:\\Cloud\\Github\\imagemanipulation\n",
      "['d:\\\\Cloud\\\\Github\\\\imagemanipulation\\\\notebooks', 'c:\\\\Users\\\\jvane\\\\anaconda3\\\\envs\\\\imagemanipulation\\\\python311.zip', 'c:\\\\Users\\\\jvane\\\\anaconda3\\\\envs\\\\imagemanipulation\\\\DLLs', 'c:\\\\Users\\\\jvane\\\\anaconda3\\\\envs\\\\imagemanipulation\\\\Lib', 'c:\\\\Users\\\\jvane\\\\anaconda3\\\\envs\\\\imagemanipulation', '', 'c:\\\\Users\\\\jvane\\\\anaconda3\\\\envs\\\\imagemanipulation\\\\Lib\\\\site-packages', 'c:\\\\Users\\\\jvane\\\\anaconda3\\\\envs\\\\imagemanipulation\\\\Lib\\\\site-packages\\\\win32', 'c:\\\\Users\\\\jvane\\\\anaconda3\\\\envs\\\\imagemanipulation\\\\Lib\\\\site-packages\\\\win32\\\\lib', 'c:\\\\Users\\\\jvane\\\\anaconda3\\\\envs\\\\imagemanipulation\\\\Lib\\\\site-packages\\\\Pythonwin', 'd:\\\\Cloud\\\\Github\\\\imagemanipulation\\\\scripts', 'd:\\\\Cloud\\\\Github\\\\imagemanipulation\\\\scripts']\n",
      "d:\\Cloud\\Github\\imagemanipulation\\notebooks\n"
     ]
    }
   ],
   "source": [
    "# print(sys.path)\n",
    "# scripts_path = os.path.join('..','scripts')\n",
    "# print(scripts_path)\n",
    "# sys.path.remove(scripts_path)\n",
    "# print(sys.path)\n",
    "\n",
    "import sys\n",
    "current_working_directory = os.getcwd()\n",
    "print(current_working_directory)\n",
    "\n",
    "os.chdir('..')\n",
    "current_working_directory = os.getcwd()\n",
    "print(current_working_directory)\n",
    "\n",
    "directory_to_scripts = os.path.join(current_working_directory,'scripts')\n",
    "sys.path.append(directory_to_scripts)\n",
    "print(sys.path)\n",
    "\n",
    "from scripts import colorful_big_one as cbo\n",
    "\n",
    "os.chdir('notebooks')\n",
    "current_working_directory = os.getcwd()\n",
    "print(current_working_directory)\n",
    "\n"
   ]
  },
  {
   "cell_type": "code",
   "execution_count": 6,
   "id": "143f9313",
   "metadata": {},
   "outputs": [
    {
     "name": "stdout",
     "output_type": "stream",
     "text": [
      "** step 1 ** Generating standard combination instruction list of 144 possible combinations, done\n",
      "\n",
      "** step 2 ** Randomizing the standard combination list for 144 combinations to create an new image each time executed\r"
     ]
    },
    {
     "ename": "NameError",
     "evalue": "name 'np' is not defined",
     "output_type": "error",
     "traceback": [
      "\u001b[1;31m---------------------------------------------------------------------------\u001b[0m",
      "\u001b[1;31mNameError\u001b[0m                                 Traceback (most recent call last)",
      "Cell \u001b[1;32mIn[6], line 8\u001b[0m\n\u001b[0;32m      5\u001b[0m use_this_image \u001b[38;5;241m=\u001b[39m np\u001b[38;5;241m.\u001b[39marray(Image\u001b[38;5;241m.\u001b[39mopen(loaded_image_path))\n\u001b[0;32m      7\u001b[0m \u001b[38;5;66;03m# random_instructions_list = cbo.generate_random_instruction_list()\u001b[39;00m\n\u001b[1;32m----> 8\u001b[0m cbo\u001b[38;5;241m.\u001b[39mcreate_colorful_big_one(use_this_image, \u001b[43mcbo\u001b[49m\u001b[38;5;241;43m.\u001b[39;49m\u001b[43mgenerate_random_instruction_list\u001b[49m\u001b[43m(\u001b[49m\u001b[43m)\u001b[49m)\n",
      "File \u001b[1;32md:\\Cloud\\Github\\imagemanipulation\\scripts\\colorful_big_one.py:240\u001b[0m, in \u001b[0;36mgenerate_random_instruction_list\u001b[1;34m()\u001b[0m\n\u001b[0;32m    237\u001b[0m \u001b[38;5;28mprint\u001b[39m()\n\u001b[0;32m    239\u001b[0m \u001b[38;5;28mprint\u001b[39m(\u001b[38;5;124mf\u001b[39m\u001b[38;5;124m\"\u001b[39m\u001b[38;5;124m** step 2 ** Randomizing the standard combination list for \u001b[39m\u001b[38;5;132;01m{\u001b[39;00mnumber_of_combinations\u001b[38;5;132;01m}\u001b[39;00m\u001b[38;5;124m combinations to create an new image each time executed\u001b[39m\u001b[38;5;124m\"\u001b[39m, end\u001b[38;5;241m=\u001b[39m\u001b[38;5;124m'\u001b[39m\u001b[38;5;130;01m\\r\u001b[39;00m\u001b[38;5;124m'\u001b[39m)\n\u001b[1;32m--> 240\u001b[0m random_sequence \u001b[38;5;241m=\u001b[39m \u001b[43mnp\u001b[49m\u001b[38;5;241m.\u001b[39mrandom\u001b[38;5;241m.\u001b[39mpermutation(np\u001b[38;5;241m.\u001b[39marange(\u001b[38;5;241m0\u001b[39m, number_of_combinations))\n\u001b[0;32m    242\u001b[0m instruction_list \u001b[38;5;241m=\u001b[39m []\n\u001b[0;32m    243\u001b[0m \u001b[38;5;28;01mfor\u001b[39;00m number \u001b[38;5;129;01min\u001b[39;00m random_sequence:\n",
      "\u001b[1;31mNameError\u001b[0m: name 'np' is not defined"
     ]
    }
   ],
   "source": [
    "default_image = 'kittycat_blebleble.png'\n",
    "default_image_path = os.path.join('..','images','input',default_image)\n",
    "\n",
    "loaded_image_path = default_image_path\n",
    "use_this_image = np.array(Image.open(loaded_image_path))\n",
    "\n",
    "# random_instructions_list = cbo.generate_random_instruction_list()\n",
    "cbo.create_colorful_big_one(use_this_image, cbo.generate_random_instruction_list())\n",
    "    "
   ]
  }
 ],
 "metadata": {
  "kernelspec": {
   "display_name": "Python 3 (ipykernel)",
   "language": "python",
   "name": "python3"
  },
  "language_info": {
   "codemirror_mode": {
    "name": "ipython",
    "version": 3
   },
   "file_extension": ".py",
   "mimetype": "text/x-python",
   "name": "python",
   "nbconvert_exporter": "python",
   "pygments_lexer": "ipython3",
   "version": "3.11.7"
  }
 },
 "nbformat": 4,
 "nbformat_minor": 5
}
