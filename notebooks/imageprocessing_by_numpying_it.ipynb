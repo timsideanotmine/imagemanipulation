{
 "cells": [
  {
   "cell_type": "markdown",
   "metadata": {},
   "source": [
    "## 1. import all dependant packages"
   ]
  },
  {
   "cell_type": "code",
   "execution_count": 7,
   "metadata": {},
   "outputs": [],
   "source": [
    "# standard imports\n",
    "import os \n",
    "import datetime\n",
    "import sys\n",
    "import random\n",
    "\n",
    "# import packages\n",
    "import numpy as np\n",
    "import matplotlib.pyplot as plt\n",
    "from PIL import Image"
   ]
  },
  {
   "cell_type": "markdown",
   "metadata": {},
   "source": [
    "## 2. import own written modules for 'colorful_big_one' python work, version 2, \n",
    "## final solution to be presented to Tim"
   ]
  },
  {
   "cell_type": "code",
   "execution_count": 8,
   "metadata": {},
   "outputs": [],
   "source": [
    "# import own packages (run this statement only once to not clutter the classpath)\n",
    "current_working_directory = os.getcwd()                                    \n",
    "parent_working_directory = os.path.dirname(current_working_directory)      \n",
    "scripts_directory = os.path.join(parent_working_directory, 'scripts')      \n",
    "sys.path.append(scripts_directory)                                         \n",
    "# sys.path.remove(scripts_directory)\n",
    "# print(sys.path)\n",
    "# import colorful_big_one as cbof # previous version one single module before splitting\n",
    "\n",
    "import colorful_big_one_functions as cbof\n",
    "import colorful_big_one_solutions as cbos"
   ]
  },
  {
   "cell_type": "markdown",
   "metadata": {},
   "source": [
    "## 3. running the solutions "
   ]
  },
  {
   "cell_type": "code",
   "execution_count": null,
   "metadata": {},
   "outputs": [],
   "source": [
    "default_image = 'wait_let_me_check_my_messages.png'\n",
    "default_image_path = os.path.join('..','images','input', default_image)\n",
    "use_this_image = np.array(Image.open(default_image_path))\n",
    "height, width, channels = use_this_image.shape\n",
    "\n",
    "# -------------------------------------\n",
    "# tims_image_1A, tile solution, 1 single image, 8 x 3\n",
    "# options for given_random_combination : 'default', 'randomize_color', 'randomize_flip', 'randomize_rotate', 'randomize_making'\n",
    "image_to_show = cbos.create_tims_image_1_by_numpying_it(use_this_image.copy(), 'default')\n",
    "cbof.show_the_image(image_to_show)\n",
    "# image_to_show = cbos.create_tims_image_1_by_numpying_it(use_this_image.copy(), 'randomize_color')\n",
    "# cbof.show_the_image(image_to_show)\n",
    "# image_to_show = cbos.create_tims_image_1_by_numpying_it(use_this_image.copy(), 'randomize_making')\n",
    "# cbof.show_the_image(image_to_show)\n",
    "\n",
    "# -------------------------------------\n",
    "# # tims_image_2, v/h-stack solution, 4 flipped rows\n",
    "# options for given_random_combination : 'default', 'randomize_color', 'randomize_making',\n",
    "# note : the orientations of the exercise are never changed\n",
    "image_to_show = cbos.create_tims_image_2_by_numpying_it(use_this_image.copy(), 'default')\n",
    "cbof.show_the_image(image_to_show)\n",
    "# image_to_show = cbos.create_tims_image_2_by_numpying_it(use_this_image.copy(), 'randomize_color')\n",
    "# cbof.show_the_image(image_to_show)\n",
    "# image_to_show = cbos.create_tims_image_2_by_numpying_it(use_this_image.copy(), 'randomize_making')\n",
    "# cbof.show_the_image(image_to_show)\n",
    "\n",
    "# -------------------------------------\n",
    "# # # tims_image_3, clockwise color solution with double sized image\n",
    "# options for given_random_combination : 'default', 'randomize_flip', 'randomize_rotate', 'randomize_making'\n",
    "# note : the colors of the exercise are never changed\n",
    "image_to_show = cbos.create_tims_image_3_by_numpying_it(use_this_image, 'default')\n",
    "cbof.show_the_image(image_to_show)\n",
    "# image_to_show = cbos.create_tims_image_3_by_numpying_it(use_this_image, 'randomize_flip')\n",
    "# cbof.show_the_image(image_to_show)\n",
    "# image_to_show = cbos.create_tims_image_3_by_numpying_it(use_this_image, 'randomize_rotate')\n",
    "# cbof.show_the_image(image_to_show)\n",
    "# image_to_show = cbos.create_tims_image_3_by_numpying_it(use_this_image, 'randomize_making')\n",
    "# cbof.show_the_image(image_to_show)"
   ]
  },
  {
   "cell_type": "code",
   "execution_count": 10,
   "metadata": {},
   "outputs": [],
   "source": [
    "# default_image = 'wait_let_me_check_my_messages.png'\n",
    "# default_image_path = os.path.join('..','images','input', default_image)\n",
    "# use_this_image = np.array(Image.open(default_image_path))\n",
    "# height, width, channels = use_this_image.shape\n",
    "\n",
    "# # image_to_show = cbos.apply_combination_of_functions_by_numpying_it(use_this_image, 'randomize', 'randomize', 'randomize', 'randomize')\n",
    "# # cbof.show_the_image(image_to_show)\n",
    "\n",
    "# # image_to_show = cbos.create_tims_image_1_by_numpying_it(use_this_image)\n",
    "# image_to_show = cbos.create_tims_image_1_by_numpying_it(use_this_image, 'default')\n",
    "# cbof.show_the_image(image_to_show)\n",
    "\n"
   ]
  },
  {
   "cell_type": "markdown",
   "metadata": {},
   "source": [
    "## 4. testing the docstring feature"
   ]
  },
  {
   "cell_type": "code",
   "execution_count": 11,
   "metadata": {},
   "outputs": [],
   "source": [
    "# cbof.color_the_image?\n",
    "# cbof.flip_the_image?\n",
    "# cbof.rotate_the_image?\n",
    "# cbof.make_the_image?\n",
    "\n",
    "# cbos.generate_random_instruction_list_by_plotting_it?\n",
    "# cbos.create_instructed_image_by_plotting_it?\n",
    "# cbos.create_colorful_big_one_by_plotting_it?"
   ]
  },
  {
   "cell_type": "markdown",
   "metadata": {},
   "source": [
    "## 5. testing all type of graphic effects seperatly"
   ]
  },
  {
   "cell_type": "code",
   "execution_count": 12,
   "metadata": {},
   "outputs": [],
   "source": [
    "default_image = 'kittycat_blebleble.png'\n",
    "default_image_path = os.path.join('..','images','input', default_image)\n",
    "use_this_image = np.array(Image.open(default_image_path))\n",
    "# height, width, channels = use_this_image.shape\n",
    "\n",
    "# # color\n",
    "\n",
    "# image_to_show = cbof.color_the_image(use_this_image.copy(),'to_red')\n",
    "# print(f\"cbof.color_the_image(use_this_image.copy(),'to_red')\")\n",
    "# cbof.show_the_image(image_to_show)\n",
    "\n",
    "# image_to_show = cbof.color_the_image(use_this_image.copy(),'to_blue')\n",
    "# print(f\"cbof.color_the_image(use_this_image.copy(),'to_blue')\")\n",
    "# cbof.show_the_image(image_to_show)\n",
    "\n",
    "# image_to_show = cbof.color_the_image(use_this_image.copy(),'to_green')\n",
    "# print(f\"cbof.color_the_image(use_this_image.copy(),'to_green')\")\n",
    "# cbof.show_the_image(image_to_show)\n",
    "\n",
    "# # flip\n",
    "\n",
    "# image_to_show = cbof.flip_the_image(use_this_image.copy(),'horizontally')\n",
    "# print(f\"cbof.flip_the_image(use_this_image.copy(),'horizontally')\")\n",
    "# cbof.show_the_image(image_to_show)\n",
    "\n",
    "# image_to_show = cbof.flip_the_image(use_this_image.copy(),'vertically')\n",
    "# print(f\"cbof.flip_the_image(use_this_image.copy(),'vertically')\")\n",
    "# cbof.show_the_image(image_to_show)\n",
    "\n",
    "# # rotating\n",
    "\n",
    "# image_to_show = cbof.rotate_the_image(use_this_image.copy(),'to_the_left')\n",
    "# print(f\"cbof.rotate_the_image(use_this_image.copy(),'to_the_left')\")\n",
    "# cbof.show_the_image(image_to_show)\n",
    "\n",
    "# image_to_show = cbof.rotate_the_image(use_this_image.copy(),'to_the_right')\n",
    "# print(f\"cbof.rotate_the_image(use_this_image.copy(),'to_the_right')\")\n",
    "# cbof.show_the_image(image_to_show)\n",
    "\n",
    "# # make some effects on the image\n",
    "\n",
    "# image_to_show = cbof.make_the_image(use_this_image.copy(),'noisy')\n",
    "# print(f\"cbof.make_the_image(use_this_image.copy(),'noisy')\")\n",
    "# cbof.show_the_image(image_to_show)\n",
    "\n",
    "# image_to_show = cbof.make_the_image(use_this_image.copy(),'black_and_white')\n",
    "# print(f\"cbof.make_the_image(use_this_image.copy(),'black_and_white')\")\n",
    "# cbof.show_the_image(image_to_show)\n",
    "\n",
    "# image_to_show = cbof.make_the_image(use_this_image.copy(),'shady')\n",
    "# print(f\"cbof.make_the_image(use_this_image.copy(),'shady')\")\n",
    "# cbof.show_the_image(image_to_show)\n",
    "\n",
    "# image_to_show = cbof.make_the_image(use_this_image.copy(),'double_size')\n",
    "# print(f\"cbof.make_the_image(use_this_image.copy(),'double_size')\")\n",
    "# print(use_this_image.shape)\n",
    "# print(image_to_show.shape)\n",
    "# cbof.show_the_image(image_to_show)\n",
    "\n",
    "# image_to_show = cbof.make_the_image(use_this_image.copy(),'grayscale')\n",
    "# print(f\"cbof.make_the_image(use_this_image.copy(),'grayscale')\")\n",
    "# cbof.show_the_image(image_to_show)\n",
    "\n",
    "# image_to_show = cbof.make_the_image(use_this_image.copy(),'grainy')\n",
    "# print(f\"cbof.make_the_image(use_this_image.copy(),'grainy')\")\n",
    "# cbof.show_the_image(image_to_show)\n",
    "\n",
    "# image_to_show = cbof.make_the_image(use_this_image.copy(),'inverted')\n",
    "# print(f\"cbof.make_the_image(use_this_image.copy(),'inverted')\")\n",
    "# cbof.show_the_image(image_to_show)\n",
    "\n",
    "# image_to_show = cbof.make_the_image(use_this_image.copy(),'sepia_tone')\n",
    "# print(f\"cbof.make_the_image(use_this_image.copy(),'sepia_tone')\")\n",
    "# cbof.show_the_image(image_to_show)\n",
    "\n",
    "# image_to_show = cbof.make_the_image(use_this_image.copy(),'solarized')\n",
    "# print(f\"cbof.make_the_image(use_this_image.copy(),'solarized')\")\n",
    "# cbof.show_the_image(image_to_show)\n",
    "\n",
    "# image_to_show = cbof.make_the_image(use_this_image.copy(),'posterized')\n",
    "# print(f\"cbof.make_the_image(use_this_image.copy(),'posterized')\")\n",
    "# cbof.show_the_image(image_to_show)\n",
    "\n",
    "# image_to_show = cbof.make_the_image(use_this_image.copy(),'twirled')\n",
    "# print(f\"cbof.make_the_image(use_this_image.copy(),'twirled')\")\n",
    "# cbof.show_the_image(image_to_show)\n",
    "\n",
    "# image_to_show = cbof.make_the_image(use_this_image.copy(),'mosaic')\n",
    "# print(f\"cbof.make_the_image(use_this_image.copy(),'mosaic')\")\n",
    "# cbof.show_the_image(image_to_show)\n",
    "\n",
    "# image_to_show = cbof.make_the_image(use_this_image.copy(),'rippled')\n",
    "# print(f\"cbof.make_the_image(use_this_image.copy(),'rippled')\")\n",
    "# cbof.show_the_image(image_to_show)\n",
    "\n",
    "# image_to_show = cbof.make_the_image(use_this_image.copy(),'swirled')\n",
    "# print(f\"cbof.make_the_image(use_this_image.copy(),'swirled')\")\n",
    "# cbof.show_the_image(image_to_show)"
   ]
  }
 ],
 "metadata": {
  "kernelspec": {
   "display_name": "base",
   "language": "python",
   "name": "python3"
  },
  "language_info": {
   "codemirror_mode": {
    "name": "ipython",
    "version": 3
   },
   "file_extension": ".py",
   "mimetype": "text/x-python",
   "name": "python",
   "nbconvert_exporter": "python",
   "pygments_lexer": "ipython3",
   "version": "3.11.7"
  }
 },
 "nbformat": 4,
 "nbformat_minor": 2
}
