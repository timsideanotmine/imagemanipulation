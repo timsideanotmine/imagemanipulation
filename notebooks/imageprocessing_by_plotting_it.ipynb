{
 "cells": [
  {
   "cell_type": "markdown",
   "id": "cdfb1448",
   "metadata": {},
   "source": [
    "## 1. import all dependant packages"
   ]
  },
  {
   "cell_type": "code",
   "execution_count": 1,
   "id": "39f8b517",
   "metadata": {},
   "outputs": [],
   "source": [
    "# standard imports\n",
    "import os \n",
    "import datetime\n",
    "import sys\n",
    "\n",
    "# import packages\n",
    "import numpy as np\n",
    "import matplotlib.pyplot as plt\n",
    "from PIL import Image"
   ]
  },
  {
   "cell_type": "markdown",
   "id": "9f778bb6",
   "metadata": {},
   "source": [
    "## 2. import own written modules for 'colorful_big_one' python work, version 1, \n",
    "## version works byb subplotting and is not correct but works with same modules"
   ]
  },
  {
   "cell_type": "code",
   "execution_count": 2,
   "id": "dad1b0de",
   "metadata": {},
   "outputs": [],
   "source": [
    "# import own packages (run this statement only once)\n",
    "current_working_directory = os.getcwd()                                    # run only once time\n",
    "parent_working_directory = os.path.dirname(current_working_directory)      # run only once time\n",
    "scripts_directory = os.path.join(parent_working_directory, 'scripts')      # run only once time\n",
    "sys.path.append(scripts_directory)                                         # run only once time\n",
    "# sys.path.remove(scripts_directory)\n",
    "# print(sys.path)\n",
    "# import colorful_big_one as cbof\n",
    "\n",
    "import colorful_big_one_solutions as cbos"
   ]
  },
  {
   "cell_type": "markdown",
   "id": "1c50a3da",
   "metadata": {},
   "source": [
    "## 3. running the solutions"
   ]
  },
  {
   "cell_type": "code",
   "execution_count": null,
   "id": "143f9313",
   "metadata": {},
   "outputs": [],
   "source": [
    "default_image = 'kittycat_blebleble.png'\n",
    "default_image_path = os.path.join('..','images','input', default_image)\n",
    "\n",
    "default_save_image = 'kittycat_blebleble_'\n",
    "default_save_image_path = os.path.join('..', 'images','output', default_save_image)\n",
    "\n",
    "use_this_image = np.array(Image.open(default_image_path))\n",
    "use_this_instructions_list = cbos.generate_random_instruction_list_by_plotting_it()\n",
    "use_this_to_save_image = default_save_image_path\n",
    "\n",
    "cbos.create_colorful_big_one_by_plotting_it(use_this_image, use_this_instructions_list, use_this_to_save_image)    \n",
    "\n",
    "# print(use_this_image) # de-comment this to see the image ndarray data\n",
    "# print(use_this_instructions_list) # de-comment his to see the list of instructions (themselves being lists)\n"
   ]
  },
  {
   "cell_type": "markdown",
   "id": "a059db73",
   "metadata": {},
   "source": [
    "## 4. testing to see what the per function documentation will give"
   ]
  },
  {
   "cell_type": "code",
   "execution_count": 4,
   "id": "17e970c9",
   "metadata": {},
   "outputs": [],
   "source": [
    "#cbof.create_colorful_big_one?\n",
    "#cbof.generate_random_instruction_list_by_plotting_it?\n",
    "#cbof.create_instructed_image_by_plotting_it?\n",
    "#cbof.color_the_image?\n",
    "#cbof.flip_the_image?\n",
    "#cbof.rotate_the_image_image?\n",
    "#cbof.make_the_image?\n",
    "#cbof.save_the_image\n",
    "#cbof.main?"
   ]
  }
 ],
 "metadata": {
  "kernelspec": {
   "display_name": "Python 3 (ipykernel)",
   "language": "python",
   "name": "python3"
  },
  "language_info": {
   "codemirror_mode": {
    "name": "ipython",
    "version": 3
   },
   "file_extension": ".py",
   "mimetype": "text/x-python",
   "name": "python",
   "nbconvert_exporter": "python",
   "pygments_lexer": "ipython3",
   "version": "3.11.7"
  }
 },
 "nbformat": 4,
 "nbformat_minor": 5
}
